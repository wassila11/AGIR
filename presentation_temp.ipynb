{
 "cells": [
  {
   "cell_type": "code",
   "execution_count": 26,
   "id": "023b4a61",
   "metadata": {},
   "outputs": [],
   "source": [
    "import pandas as pd\n",
    "import matplotlib.pyplot as plt\n",
    "import seaborn as sns\n",
    "import os\n",
    "import re"
   ]
  },
  {
   "cell_type": "markdown",
   "id": "6b739757",
   "metadata": {},
   "source": [
    "## Données de Température\n",
    "\n",
    "### Présentation du jeu de données\n",
    "\n",
    "Dans cette section, nous présentons les données utilisées pour notre analyse de la température. Les données sont initialement dispersées sur un grand nombre de fichiers, un pour chaque département. Ces fichiers contiennent des informations sur la température moyenne mensuelle, mais les données sont incohérentes et nécessitent un nettoyage avant de pouvoir être utilisées efficacement dans nos analyses.\n",
    "\n"
   ]
  },
  {
   "cell_type": "code",
   "execution_count": 27,
   "id": "6019a99d",
   "metadata": {},
   "outputs": [
    {
     "data": {
      "text/plain": [
       "Index(['NUM_POSTE', 'NOM_USUEL', 'LAT', 'LON', 'ALTI', 'AAAAMM', 'RR', 'QRR',\n",
       "       'NBRR', 'RR_ME',\n",
       "       ...\n",
       "       'QNEIGETOTM', 'NEIGETOTAB', 'QNEIGETOTAB', 'NEIGETOTABDAT',\n",
       "       'NBJNEIGETOT1', 'NBJNEIGETOT10', 'NBJNEIGETOT30', 'NBJGREL', 'NBJORAG',\n",
       "       'NBJBROU'],\n",
       "      dtype='object', length=162)"
      ]
     },
     "execution_count": 27,
     "metadata": {},
     "output_type": "execute_result"
    }
   ],
   "source": [
    "df_climat = pd.read_csv(\"climat_files/MENSQ_02_previous-1950-2023.csv\", delimiter=';', encoding='utf-8')\n",
    "df_climat.columns"
   ]
  },
  {
   "cell_type": "markdown",
   "id": "2593723b",
   "metadata": {},
   "source": [
    "Ce jeu de données représente les valeurs de temperature moyenne/minimal/maximal mensuelles par region pour le département numéro 2 pour les années 1950-2023.\n",
    "\n",
    "Premier problème rencontré: Pas de colonne \"commune\" dans le jeu de données \n",
    "=> Solution: Liaison avec le NUM_POSTE figurant dans un autre jeu de donnée qui contentient les valeurs de la commune pour chaque numéro de poste. "
   ]
  },
  {
   "cell_type": "code",
   "execution_count": 28,
   "id": "0ef6226c",
   "metadata": {},
   "outputs": [
    {
     "data": {
      "text/plain": [
       "Index(['NUM_POSTE', 'NOM_USUEL', 'COMMUNE', 'LIEU_DIT', 'DATOUVR', 'DATFERM',\n",
       "       'LAT', 'LON', 'LAMBX', 'LAMBY', 'ALTI', 'TYPE_POSTE_ACTUEL'],\n",
       "      dtype='object')"
      ]
     },
     "execution_count": 28,
     "metadata": {},
     "output_type": "execute_result"
    }
   ],
   "source": [
    "df_commune_1 = pd.read_csv('POSTES_MF.csv', delimiter=';', encoding='utf-8')\n",
    "df_commune_1.columns"
   ]
  },
  {
   "cell_type": "code",
   "execution_count": 29,
   "id": "420a0c4b",
   "metadata": {},
   "outputs": [
    {
     "data": {
      "text/plain": [
       "Index(['NUM_POSTE', 'NOM_USUEL', 'COMMUNE', 'LIEU_DIT', 'DATOUVR', 'DATFERM',\n",
       "       'LAT', 'LON', 'LAMBX', 'LAMBY', 'ALTI', 'TYPE_POSTE_ACTUEL'],\n",
       "      dtype='object')"
      ]
     },
     "execution_count": 29,
     "metadata": {},
     "output_type": "execute_result"
    }
   ],
   "source": [
    "df_commune_2 = pd.read_csv('POSTES-COMP.csv', delimiter=';', encoding='utf-8')\n",
    "df_commune_2.columns"
   ]
  },
  {
   "cell_type": "code",
   "execution_count": 30,
   "id": "48c2fe46",
   "metadata": {},
   "outputs": [],
   "source": [
    "def process_climat_data(df_climat):\n",
    "    df_commune = pd.concat([df_commune_1, df_commune_2], ignore_index=True)\n",
    "    df_commune.drop_duplicates(subset='NOM_USUEL', inplace=True)\n",
    "\n",
    "    df_climat_merge = pd.merge(df_climat, df_commune[['NOM_USUEL', 'COMMUNE']], on='NOM_USUEL', how='left')\n",
    "\n",
    "    # Identification des colonnes utiles\n",
    "    colonnes_utiles = ['COMMUNE', 'AAAAMM', 'TMM', 'TX', 'TN']\n",
    "    df_clean = df_climat_merge[colonnes_utiles].copy()\n",
    "\n",
    "    # Suppression des lignes avec des valeurs manquantes\n",
    "    df_clean.dropna(inplace=True)\n",
    "\n",
    "    # Reformulation de la colonne des dates\n",
    "    df_clean['Date'] = pd.to_datetime(df_clean['AAAAMM'], format='%Y%m')\n",
    "\n",
    "    # Ajout de la colonne 'Saison'\n",
    "    def get_season(month):\n",
    "        if month in [12, 1, 2]: return 'Hiver'\n",
    "        elif month in [3, 4, 5]: return 'Printemps'\n",
    "        elif month in [6, 7, 8]: return 'Été'\n",
    "        else: return 'Automne'\n",
    "\n",
    "    df_clean['Saison'] = df_clean['Date'].dt.month.map(get_season)\n",
    "    df_clean.drop(columns='AAAAMM', inplace=True)\n",
    "\n",
    "    # Renommage des colonnes\n",
    "    df_clean.rename(columns={\n",
    "        'COMMUNE': 'Commune',\n",
    "        'TMM': 'Température moyenne mensuelle',\n",
    "        'TX': 'Température maximale',\n",
    "        'TN': 'Température minimale'\n",
    "    }, inplace=True)\n",
    "\n",
    "    df_clean['Année'] = df_clean['Date'].dt.year\n",
    "\n",
    "    # Cacul de la température moyenne annuelle\n",
    "    annual_avg_temp = df_clean.groupby(['Commune', 'Année'])['Température moyenne mensuelle'].mean().reset_index()\n",
    "    annual_avg_temp.rename(columns={'Température moyenne mensuelle': 'Température moyenne annuelle'}, inplace=True)\n",
    "\n",
    "    # Calcul des centiles\n",
    "    centiles = df_clean.groupby(['Commune', 'Année'])['Température moyenne mensuelle'].quantile([0.25, 0.5, 0.75]).unstack().reset_index()\n",
    "    centiles.rename(columns={0.25: 'Centile_25%', 0.5: 'Centile_50% (Médiane)', 0.75: 'Centile_75%'}, inplace=True)\n",
    "\n",
    "    df_clean = pd.merge(df_clean, annual_avg_temp, on=['Commune', 'Année'], how='left')\n",
    "    df_clean = pd.merge(df_clean, centiles, on=['Commune', 'Année'], how='left')\n",
    "\n",
    "    return df_clean"
   ]
  },
  {
   "cell_type": "code",
   "execution_count": 31,
   "id": "d294d0b8",
   "metadata": {},
   "outputs": [
    {
     "name": "stdout",
     "output_type": "stream",
     "text": [
      "Processed file saved as: climat_files_processed/processed_MENSQ_82_previous-1950-2023.csv\n",
      "Processed file saved as: climat_files_processed/processed_MENSQ_43_previous-1950-2023.csv\n",
      "Processed file saved as: climat_files_processed/processed_MENSQ_36_previous-1950-2023.csv\n",
      "Processed file saved as: climat_files_processed/processed_MENSQ_88_previous-1950-2023.csv\n",
      "Processed file saved as: climat_files_processed/processed_MENSQ_49_previous-1950-2023.csv\n",
      "Processed file saved as: climat_files_processed/processed_MENSQ_78_previous-1950-2023.csv\n",
      "Processed file saved as: climat_files_processed/processed_MENSQ_07_previous-1950-2023.csv\n",
      "Processed file saved as: climat_files_processed/processed_MENSQ_72_previous-1950-2023.csv\n",
      "Processed file saved as: climat_files_processed/processed_MENSQ_85_previous-1950-2023.csv\n",
      "Processed file saved as: climat_files_processed/processed_MENSQ_44_previous-1950-2023.csv\n",
      "Processed file saved as: climat_files_processed/processed_MENSQ_31_previous-1950-2023.csv\n",
      "Processed file saved as: climat_files_processed/processed_MENSQ_75_previous-1950-2023.csv\n",
      "Processed file saved as: climat_files_processed/processed_MENSQ_38_previous-1950-2023.csv\n",
      "Processed file saved as: climat_files_processed/processed_MENSQ_32_previous-1950-2023.csv\n",
      "Processed file saved as: climat_files_processed/processed_MENSQ_86_previous-1950-2023.csv\n",
      "Processed file saved as: climat_files_processed/processed_MENSQ_47_previous-1950-2023.csv\n",
      "Processed file saved as: climat_files_processed/processed_MENSQ_76_previous-1950-2023.csv\n",
      "Processed file saved as: climat_files_processed/processed_MENSQ_03_previous-1950-2023.csv\n",
      "Processed file saved as: climat_files_processed/processed_MENSQ_09_previous-1950-2023.csv\n",
      "Processed file saved as: climat_files_processed/processed_MENSQ_35_previous-1950-2023.csv\n",
      "Processed file saved as: climat_files_processed/processed_MENSQ_81_previous-1950-2023.csv\n",
      "Processed file saved as: climat_files_processed/processed_MENSQ_40_previous-1950-2023.csv\n",
      "Processed file saved as: climat_files_processed/processed_MENSQ_71_previous-1950-2023.csv\n",
      "Processed file saved as: climat_files_processed/processed_MENSQ_04_previous-1950-2023.csv\n",
      "Processed file saved as: climat_files_processed/processed_MENSQ_70_previous-1950-2023.csv\n",
      "Processed file saved as: climat_files_processed/processed_MENSQ_05_previous-1950-2023.csv\n",
      "Processed file saved as: climat_files_processed/processed_MENSQ_34_previous-1950-2023.csv\n",
      "Processed file saved as: climat_files_processed/processed_MENSQ_41_previous-1950-2023.csv\n",
      "Processed file saved as: climat_files_processed/processed_MENSQ_80_previous-1950-2023.csv\n",
      "Processed file saved as: climat_files_processed/processed_MENSQ_08_previous-1950-2023.csv\n",
      "Processed file saved as: climat_files_processed/processed_MENSQ_77_previous-1950-2023.csv\n",
      "Processed file saved as: climat_files_processed/processed_MENSQ_02_previous-1950-2023.csv\n",
      "Processed file saved as: climat_files_processed/processed_MENSQ_33_previous-1950-2023.csv\n",
      "Processed file saved as: climat_files_processed/processed_MENSQ_46_previous-1950-2023.csv\n",
      "Processed file saved as: climat_files_processed/processed_MENSQ_87_previous-1950-2023.csv\n",
      "Processed file saved as: climat_files_processed/processed_MENSQ_39_previous-1950-2023.csv\n",
      "Processed file saved as: climat_files_processed/processed_MENSQ_01_previous-1950-2023.csv\n",
      "Processed file saved as: climat_files_processed/processed_MENSQ_74_previous-1950-2023.csv\n",
      "Processed file saved as: climat_files_processed/processed_MENSQ_45_previous-1950-2023.csv\n",
      "Processed file saved as: climat_files_processed/processed_MENSQ_84_previous-1950-2023.csv\n",
      "Processed file saved as: climat_files_processed/processed_MENSQ_30_previous-1950-2023.csv\n",
      "Processed file saved as: climat_files_processed/processed_MENSQ_06_previous-1950-2023.csv\n",
      "Processed file saved as: climat_files_processed/processed_MENSQ_73_previous-1950-2023.csv\n",
      "Processed file saved as: climat_files_processed/processed_MENSQ_79_previous-1950-2023.csv\n",
      "Processed file saved as: climat_files_processed/processed_MENSQ_48_previous-1950-2023.csv\n",
      "Processed file saved as: climat_files_processed/processed_MENSQ_89_previous-1950-2023.csv\n",
      "Processed file saved as: climat_files_processed/processed_MENSQ_42_previous-1950-2023.csv\n",
      "Processed file saved as: climat_files_processed/processed_MENSQ_83_previous-1950-2023.csv\n",
      "Processed file saved as: climat_files_processed/processed_MENSQ_37_previous-1950-2023.csv\n",
      "Processed file saved as: climat_files_processed/processed_MENSQ_14_previous-1950-2023.csv\n",
      "Processed file saved as: climat_files_processed/processed_MENSQ_61_previous-1950-2023.csv\n",
      "Processed file saved as: climat_files_processed/processed_MENSQ_91_previous-1950-2023.csv\n",
      "Processed file saved as: climat_files_processed/processed_MENSQ_986_previous-1950-2023.csv\n",
      "Processed file saved as: climat_files_processed/processed_MENSQ_50_previous-1950-2023.csv\n",
      "Processed file saved as: climat_files_processed/processed_MENSQ_25_previous-1950-2023.csv\n",
      "Processed file saved as: climat_files_processed/processed_MENSQ_19_previous-1950-2023.csv\n",
      "Processed file saved as: climat_files_processed/processed_MENSQ_13_previous-1950-2023.csv\n",
      "Processed file saved as: climat_files_processed/processed_MENSQ_971_previous-1950-2023.csv\n",
      "Processed file saved as: climat_files_processed/processed_MENSQ_66_previous-1950-2023.csv\n",
      "Processed file saved as: climat_files_processed/processed_MENSQ_57_previous-1950-2023.csv\n",
      "Processed file saved as: climat_files_processed/processed_MENSQ_22_previous-1950-2023.csv\n",
      "Processed file saved as: climat_files_processed/processed_MENSQ_28_previous-1950-2023.csv\n",
      "Processed file saved as: climat_files_processed/processed_MENSQ_972_previous-1950-2023.csv\n",
      "Processed file saved as: climat_files_processed/processed_MENSQ_65_previous-1950-2023.csv\n",
      "Processed file saved as: climat_files_processed/processed_MENSQ_10_previous-1950-2023.csv\n",
      "Processed file saved as: climat_files_processed/processed_MENSQ_988_previous-1950-2023.csv\n",
      "Processed file saved as: climat_files_processed/processed_MENSQ_21_previous-1950-2023.csv\n",
      "Processed file saved as: climat_files_processed/processed_MENSQ_95_previous-1950-2023.csv\n",
      "Processed file saved as: climat_files_processed/processed_MENSQ_54_previous-1950-2023.csv\n",
      "Processed file saved as: climat_files_processed/processed_MENSQ_975_previous-1950-2023.csv\n",
      "Processed file saved as: climat_files_processed/processed_MENSQ_62_previous-1950-2023.csv\n",
      "Processed file saved as: climat_files_processed/processed_MENSQ_17_previous-1950-2023.csv\n",
      "Processed file saved as: climat_files_processed/processed_MENSQ_68_previous-1950-2023.csv\n",
      "Processed file saved as: climat_files_processed/processed_MENSQ_59_previous-1950-2023.csv\n",
      "Processed file saved as: climat_files_processed/processed_MENSQ_26_previous-1950-2023.csv\n",
      "Processed file saved as: climat_files_processed/processed_MENSQ_92_previous-1950-2023.csv\n",
      "Processed file saved as: climat_files_processed/processed_MENSQ_985_previous-1950-2023.csv\n",
      "Processed file saved as: climat_files_processed/processed_MENSQ_53_previous-1950-2023.csv\n",
      "Processed file saved as: climat_files_processed/processed_MENSQ_27_previous-1950-2023.csv\n",
      "Processed file saved as: climat_files_processed/processed_MENSQ_52_previous-1950-2023.csv\n",
      "Processed file saved as: climat_files_processed/processed_MENSQ_984_previous-1950-2023.csv\n",
      "Processed file saved as: climat_files_processed/processed_MENSQ_93_previous-1950-2023.csv\n",
      "Processed file saved as: climat_files_processed/processed_MENSQ_58_previous-1950-2023.csv\n",
      "Processed file saved as: climat_files_processed/processed_MENSQ_99_previous-1950-2023.csv\n",
      "Processed file saved as: climat_files_processed/processed_MENSQ_69_previous-1950-2023.csv\n",
      "Processed file saved as: climat_files_processed/processed_MENSQ_63_previous-1950-2023.csv\n",
      "Processed file saved as: climat_files_processed/processed_MENSQ_974_previous-1950-2023.csv\n",
      "Processed file saved as: climat_files_processed/processed_MENSQ_16_previous-1950-2023.csv\n",
      "Processed file saved as: climat_files_processed/processed_MENSQ_20_previous-1950-2023.csv\n",
      "Processed file saved as: climat_files_processed/processed_MENSQ_55_previous-1950-2023.csv\n",
      "Processed file saved as: climat_files_processed/processed_MENSQ_94_previous-1950-2023.csv\n",
      "Processed file saved as: climat_files_processed/processed_MENSQ_64_previous-1950-2023.csv\n",
      "Processed file saved as: climat_files_processed/processed_MENSQ_973_previous-1950-2023.csv\n",
      "Processed file saved as: climat_files_processed/processed_MENSQ_11_previous-1950-2023.csv\n",
      "Processed file saved as: climat_files_processed/processed_MENSQ_29_previous-1950-2023.csv\n",
      "Processed file saved as: climat_files_processed/processed_MENSQ_56_previous-1950-2023.csv\n",
      "Processed file saved as: climat_files_processed/processed_MENSQ_23_previous-1950-2023.csv\n",
      "Processed file saved as: climat_files_processed/processed_MENSQ_12_previous-1950-2023.csv\n",
      "Processed file saved as: climat_files_processed/processed_MENSQ_67_previous-1950-2023.csv\n",
      "Processed file saved as: climat_files_processed/processed_MENSQ_18_previous-1950-2023.csv\n",
      "Processed file saved as: climat_files_processed/processed_MENSQ_51_previous-1950-2023.csv\n",
      "Processed file saved as: climat_files_processed/processed_MENSQ_987_previous-1950-2023.csv\n",
      "Processed file saved as: climat_files_processed/processed_MENSQ_90_previous-1950-2023.csv\n",
      "Processed file saved as: climat_files_processed/processed_MENSQ_24_previous-1950-2023.csv\n",
      "Processed file saved as: climat_files_processed/processed_MENSQ_15_previous-1950-2023.csv\n",
      "Processed file saved as: climat_files_processed/processed_MENSQ_60_previous-1950-2023.csv\n"
     ]
    }
   ],
   "source": [
    "climat_directory = 'climat_files'\n",
    "new_climat_directory = 'climat_files_processed'\n",
    "\n",
    "files = [f for f in os.listdir(climat_directory)]\n",
    "\n",
    "# Boucle pour traiter chaque fichier\n",
    "for file in files:\n",
    "\n",
    "    file_path = os.path.join(climat_directory, file)\n",
    "\n",
    "    df_climat = pd.read_csv(file_path, delimiter=';', encoding='utf-8')\n",
    "    \n",
    "    processed_data = process_climat_data(df_climat)\n",
    "    \n",
    "    output_file = os.path.join(new_climat_directory, f\"processed_{file}\")\n",
    "    \n",
    "    processed_data.to_csv(output_file, index=False)\n",
    "    \n",
    "    print(f\"Processed file saved as: {output_file}\")\n"
   ]
  },
  {
   "cell_type": "code",
   "execution_count": 32,
   "id": "bd7179df",
   "metadata": {},
   "outputs": [
    {
     "data": {
      "text/plain": [
       "Index(['Commune', 'Température moyenne mensuelle', 'Température maximale',\n",
       "       'Température minimale', 'Date', 'Saison', 'Année',\n",
       "       'Température moyenne annuelle', 'Centile_25%', 'Centile_50% (Médiane)',\n",
       "       'Centile_75%'],\n",
       "      dtype='object')"
      ]
     },
     "execution_count": 32,
     "metadata": {},
     "output_type": "execute_result"
    }
   ],
   "source": [
    "df_test = pd.read_csv('climat_files_processed/processed_MENSQ_02_previous-1950-2023.csv', delimiter=',', encoding='utf-8')\n",
    "df_test.columns"
   ]
  },
  {
   "cell_type": "code",
   "execution_count": 33,
   "id": "a5b92b09",
   "metadata": {},
   "outputs": [
    {
     "name": "stderr",
     "output_type": "stream",
     "text": [
      "/var/folders/__/d39q8d5n2k71j82c7ngscbp40000gn/T/ipykernel_17734/1058527133.py:20: FutureWarning: The behavior of DataFrame concatenation with empty or all-NA entries is deprecated. In a future version, this will no longer exclude empty or all-NA columns when determining the result dtypes. To retain the old behavior, exclude the relevant entries before the concat operation.\n",
      "  final_df = pd.concat(merged_df, ignore_index=True)\n"
     ]
    },
    {
     "name": "stdout",
     "output_type": "stream",
     "text": [
      "Merged file saved as: climat_merged_all_departments.csv\n"
     ]
    }
   ],
   "source": [
    "merged_df = []\n",
    "\n",
    "# Merge des fichiers traités\n",
    "def extract_department_from_filename(filename):\n",
    "    match = re.search(r'processed_MENSQ_(\\d{2})_', filename)\n",
    "    return match.group(1) if match else None\n",
    "\n",
    "for file in os.listdir(new_climat_directory):\n",
    "    if file.endswith(\".csv\") and file.startswith(\"processed_MENSQ_\"):\n",
    "        file_path = os.path.join(new_climat_directory, file)\n",
    "        df = pd.read_csv(file_path)\n",
    "\n",
    "        # Ajout de la colonne 'Département'\n",
    "        dept = extract_department_from_filename(file)\n",
    "        df['Département'] = dept\n",
    "\n",
    "        merged_df.append(df)\n",
    "\n",
    "# Concatenation de tous les fichiers traités et filtrage pour ne garder que les années >= 2018\n",
    "final_df = pd.concat(merged_df, ignore_index=True)\n",
    "final_df = final_df[final_df['Année'] >= 2018]\n",
    "\n",
    "final_df.to_csv('climat_merged_all_departments.csv', index=False)\n",
    "print(\"Merged file saved as: climat_merged_all_departments.csv\")\n"
   ]
  },
  {
   "cell_type": "code",
   "execution_count": 34,
   "id": "8c2e1c5d",
   "metadata": {},
   "outputs": [
    {
     "data": {
      "text/html": [
       "<div>\n",
       "<style scoped>\n",
       "    .dataframe tbody tr th:only-of-type {\n",
       "        vertical-align: middle;\n",
       "    }\n",
       "\n",
       "    .dataframe tbody tr th {\n",
       "        vertical-align: top;\n",
       "    }\n",
       "\n",
       "    .dataframe thead th {\n",
       "        text-align: right;\n",
       "    }\n",
       "</style>\n",
       "<table border=\"1\" class=\"dataframe\">\n",
       "  <thead>\n",
       "    <tr style=\"text-align: right;\">\n",
       "      <th></th>\n",
       "      <th>Commune</th>\n",
       "      <th>Température moyenne mensuelle</th>\n",
       "      <th>Température maximale</th>\n",
       "      <th>Température minimale</th>\n",
       "      <th>Date</th>\n",
       "      <th>Saison</th>\n",
       "      <th>Année</th>\n",
       "      <th>Température moyenne annuelle</th>\n",
       "      <th>Centile_25%</th>\n",
       "      <th>Centile_50% (Médiane)</th>\n",
       "      <th>Centile_75%</th>\n",
       "      <th>Département</th>\n",
       "    </tr>\n",
       "  </thead>\n",
       "  <tbody>\n",
       "    <tr>\n",
       "      <th>52</th>\n",
       "      <td>BAYEUX</td>\n",
       "      <td>7.9</td>\n",
       "      <td>10.4</td>\n",
       "      <td>5.5</td>\n",
       "      <td>2018-01-01</td>\n",
       "      <td>Hiver</td>\n",
       "      <td>2018</td>\n",
       "      <td>11.708333</td>\n",
       "      <td>8.125</td>\n",
       "      <td>12.35</td>\n",
       "      <td>15.70</td>\n",
       "      <td>14</td>\n",
       "    </tr>\n",
       "    <tr>\n",
       "      <th>53</th>\n",
       "      <td>BAYEUX</td>\n",
       "      <td>3.9</td>\n",
       "      <td>6.8</td>\n",
       "      <td>1.1</td>\n",
       "      <td>2018-02-01</td>\n",
       "      <td>Hiver</td>\n",
       "      <td>2018</td>\n",
       "      <td>11.708333</td>\n",
       "      <td>8.125</td>\n",
       "      <td>12.35</td>\n",
       "      <td>15.70</td>\n",
       "      <td>14</td>\n",
       "    </tr>\n",
       "    <tr>\n",
       "      <th>54</th>\n",
       "      <td>BAYEUX</td>\n",
       "      <td>6.9</td>\n",
       "      <td>10.8</td>\n",
       "      <td>4.1</td>\n",
       "      <td>2018-03-01</td>\n",
       "      <td>Printemps</td>\n",
       "      <td>2018</td>\n",
       "      <td>11.708333</td>\n",
       "      <td>8.125</td>\n",
       "      <td>12.35</td>\n",
       "      <td>15.70</td>\n",
       "      <td>14</td>\n",
       "    </tr>\n",
       "    <tr>\n",
       "      <th>55</th>\n",
       "      <td>BAYEUX</td>\n",
       "      <td>11.7</td>\n",
       "      <td>16.3</td>\n",
       "      <td>7.9</td>\n",
       "      <td>2018-04-01</td>\n",
       "      <td>Printemps</td>\n",
       "      <td>2018</td>\n",
       "      <td>11.708333</td>\n",
       "      <td>8.125</td>\n",
       "      <td>12.35</td>\n",
       "      <td>15.70</td>\n",
       "      <td>14</td>\n",
       "    </tr>\n",
       "    <tr>\n",
       "      <th>56</th>\n",
       "      <td>BAYEUX</td>\n",
       "      <td>13.4</td>\n",
       "      <td>18.0</td>\n",
       "      <td>9.1</td>\n",
       "      <td>2018-05-01</td>\n",
       "      <td>Printemps</td>\n",
       "      <td>2018</td>\n",
       "      <td>11.708333</td>\n",
       "      <td>8.125</td>\n",
       "      <td>12.35</td>\n",
       "      <td>15.70</td>\n",
       "      <td>14</td>\n",
       "    </tr>\n",
       "    <tr>\n",
       "      <th>...</th>\n",
       "      <td>...</td>\n",
       "      <td>...</td>\n",
       "      <td>...</td>\n",
       "      <td>...</td>\n",
       "      <td>...</td>\n",
       "      <td>...</td>\n",
       "      <td>...</td>\n",
       "      <td>...</td>\n",
       "      <td>...</td>\n",
       "      <td>...</td>\n",
       "      <td>...</td>\n",
       "      <td>...</td>\n",
       "    </tr>\n",
       "    <tr>\n",
       "      <th>498675</th>\n",
       "      <td>SUBLAINES</td>\n",
       "      <td>20.1</td>\n",
       "      <td>25.5</td>\n",
       "      <td>15.2</td>\n",
       "      <td>2023-08-01</td>\n",
       "      <td>Été</td>\n",
       "      <td>2023</td>\n",
       "      <td>13.383333</td>\n",
       "      <td>8.800</td>\n",
       "      <td>12.75</td>\n",
       "      <td>20.15</td>\n",
       "      <td>37</td>\n",
       "    </tr>\n",
       "    <tr>\n",
       "      <th>498676</th>\n",
       "      <td>SUBLAINES</td>\n",
       "      <td>20.5</td>\n",
       "      <td>27.3</td>\n",
       "      <td>14.9</td>\n",
       "      <td>2023-09-01</td>\n",
       "      <td>Automne</td>\n",
       "      <td>2023</td>\n",
       "      <td>13.383333</td>\n",
       "      <td>8.800</td>\n",
       "      <td>12.75</td>\n",
       "      <td>20.15</td>\n",
       "      <td>37</td>\n",
       "    </tr>\n",
       "    <tr>\n",
       "      <th>498677</th>\n",
       "      <td>SUBLAINES</td>\n",
       "      <td>15.1</td>\n",
       "      <td>20.6</td>\n",
       "      <td>10.4</td>\n",
       "      <td>2023-10-01</td>\n",
       "      <td>Automne</td>\n",
       "      <td>2023</td>\n",
       "      <td>13.383333</td>\n",
       "      <td>8.800</td>\n",
       "      <td>12.75</td>\n",
       "      <td>20.15</td>\n",
       "      <td>37</td>\n",
       "    </tr>\n",
       "    <tr>\n",
       "      <th>498678</th>\n",
       "      <td>SUBLAINES</td>\n",
       "      <td>9.4</td>\n",
       "      <td>12.7</td>\n",
       "      <td>6.8</td>\n",
       "      <td>2023-11-01</td>\n",
       "      <td>Automne</td>\n",
       "      <td>2023</td>\n",
       "      <td>13.383333</td>\n",
       "      <td>8.800</td>\n",
       "      <td>12.75</td>\n",
       "      <td>20.15</td>\n",
       "      <td>37</td>\n",
       "    </tr>\n",
       "    <tr>\n",
       "      <th>498679</th>\n",
       "      <td>SUBLAINES</td>\n",
       "      <td>7.6</td>\n",
       "      <td>10.0</td>\n",
       "      <td>5.4</td>\n",
       "      <td>2023-12-01</td>\n",
       "      <td>Hiver</td>\n",
       "      <td>2023</td>\n",
       "      <td>13.383333</td>\n",
       "      <td>8.800</td>\n",
       "      <td>12.75</td>\n",
       "      <td>20.15</td>\n",
       "      <td>37</td>\n",
       "    </tr>\n",
       "  </tbody>\n",
       "</table>\n",
       "<p>130338 rows × 12 columns</p>\n",
       "</div>"
      ],
      "text/plain": [
       "          Commune  Température moyenne mensuelle  Température maximale  \\\n",
       "52         BAYEUX                            7.9                  10.4   \n",
       "53         BAYEUX                            3.9                   6.8   \n",
       "54         BAYEUX                            6.9                  10.8   \n",
       "55         BAYEUX                           11.7                  16.3   \n",
       "56         BAYEUX                           13.4                  18.0   \n",
       "...           ...                            ...                   ...   \n",
       "498675  SUBLAINES                           20.1                  25.5   \n",
       "498676  SUBLAINES                           20.5                  27.3   \n",
       "498677  SUBLAINES                           15.1                  20.6   \n",
       "498678  SUBLAINES                            9.4                  12.7   \n",
       "498679  SUBLAINES                            7.6                  10.0   \n",
       "\n",
       "        Température minimale        Date     Saison Année  \\\n",
       "52                       5.5  2018-01-01      Hiver  2018   \n",
       "53                       1.1  2018-02-01      Hiver  2018   \n",
       "54                       4.1  2018-03-01  Printemps  2018   \n",
       "55                       7.9  2018-04-01  Printemps  2018   \n",
       "56                       9.1  2018-05-01  Printemps  2018   \n",
       "...                      ...         ...        ...   ...   \n",
       "498675                  15.2  2023-08-01        Été  2023   \n",
       "498676                  14.9  2023-09-01    Automne  2023   \n",
       "498677                  10.4  2023-10-01    Automne  2023   \n",
       "498678                   6.8  2023-11-01    Automne  2023   \n",
       "498679                   5.4  2023-12-01      Hiver  2023   \n",
       "\n",
       "        Température moyenne annuelle  Centile_25%  Centile_50% (Médiane)  \\\n",
       "52                         11.708333        8.125                  12.35   \n",
       "53                         11.708333        8.125                  12.35   \n",
       "54                         11.708333        8.125                  12.35   \n",
       "55                         11.708333        8.125                  12.35   \n",
       "56                         11.708333        8.125                  12.35   \n",
       "...                              ...          ...                    ...   \n",
       "498675                     13.383333        8.800                  12.75   \n",
       "498676                     13.383333        8.800                  12.75   \n",
       "498677                     13.383333        8.800                  12.75   \n",
       "498678                     13.383333        8.800                  12.75   \n",
       "498679                     13.383333        8.800                  12.75   \n",
       "\n",
       "        Centile_75% Département  \n",
       "52            15.70          14  \n",
       "53            15.70          14  \n",
       "54            15.70          14  \n",
       "55            15.70          14  \n",
       "56            15.70          14  \n",
       "...             ...         ...  \n",
       "498675        20.15          37  \n",
       "498676        20.15          37  \n",
       "498677        20.15          37  \n",
       "498678        20.15          37  \n",
       "498679        20.15          37  \n",
       "\n",
       "[130338 rows x 12 columns]"
      ]
     },
     "execution_count": 34,
     "metadata": {},
     "output_type": "execute_result"
    }
   ],
   "source": [
    "final_df"
   ]
  },
  {
   "cell_type": "markdown",
   "id": "d5597134",
   "metadata": {},
   "source": [
    "## Visualisations de la Température en fonction de la Consommation Électrique\n",
    "### 1. Histogramme de la Consommation Énergétique en Fonction des Intervalles de Température\n"
   ]
  },
  {
   "cell_type": "code",
   "execution_count": 35,
   "id": "3a33c62e",
   "metadata": {},
   "outputs": [],
   "source": [
    "df_all = pd.read_csv('data-final-02_04.csv')"
   ]
  },
  {
   "cell_type": "code",
   "execution_count": 36,
   "id": "926ee1da",
   "metadata": {},
   "outputs": [
    {
     "name": "stdout",
     "output_type": "stream",
     "text": [
      "count    90016.000000\n",
      "mean        14.266707\n",
      "std          2.144456\n",
      "min          2.500000\n",
      "25%         12.691667\n",
      "50%         14.100000\n",
      "75%         16.058333\n",
      "max         19.947917\n",
      "Name: Température moyenne annuelle, dtype: float64\n"
     ]
    }
   ],
   "source": [
    "print(df_all['Température moyenne annuelle'].describe())\n"
   ]
  },
  {
   "cell_type": "code",
   "execution_count": 37,
   "id": "c5714ae9",
   "metadata": {},
   "outputs": [
    {
     "name": "stderr",
     "output_type": "stream",
     "text": [
      "/var/folders/__/d39q8d5n2k71j82c7ngscbp40000gn/T/ipykernel_17734/1111536877.py:5: FutureWarning: The default of observed=False is deprecated and will be changed to True in a future version of pandas. Pass observed=False to retain current behavior or observed=True to adopt the future default and silence this warning.\n",
      "  avg_consumption = df_all.groupby('Temp_binned')[\"Consommation annuelle moyenne par logement de l'adresse (MWh)\"].mean()\n"
     ]
    },
    {
     "data": {
      "image/png": "[encoded data removed]",
      "text/plain": [
       "<Figure size 1700x600 with 1 Axes>"
      ]
     },
     "metadata": {},
     "output_type": "display_data"
    }
   ],
   "source": [
    "bins = [0, 5, 10, 15, 20] \n",
    "\n",
    "df_all['Temp_binned'] = pd.cut(df_all['Température moyenne annuelle'], bins, right=True)\n",
    "\n",
    "avg_consumption = df_all.groupby('Temp_binned')[\"Consommation annuelle moyenne par logement de l'adresse (MWh)\"].mean()\n",
    "\n",
    "full_bin_index = pd.IntervalIndex.from_breaks(bins)\n",
    "avg_consumption = avg_consumption.reindex(full_bin_index)\n",
    "\n",
    "bin_centers = [interval.mid for interval in full_bin_index]\n",
    "plt.figure(figsize=(17, 6))\n",
    "plt.bar(bin_centers, avg_consumption.fillna(0), width=5, edgecolor='black', color='skyblue', alpha=0.7)\n",
    "\n",
    "plt.title(\"Consommation énergétique moyenne par intervalle de température\")\n",
    "plt.xlabel(\"Température moyenne annuelle (°C)\")\n",
    "plt.ylabel(\"Consommation énergétique moyenne (MWh)\")\n",
    "plt.grid(True, axis='y', linestyle='--', alpha=0.7)\n",
    "plt.xticks(bin_centers, [f\"{int(i.left)} à {int(i.right)}°C\" for i in full_bin_index])\n",
    "plt.show()\n"
   ]
  },
  {
   "cell_type": "markdown",
   "id": "7f2b9e92",
   "metadata": {},
   "source": [
    "L'histogramme montre la **consommation énergétique moyenne** par logement en fonction des **intervalles de température mensuelle moyenne**.\n",
    "\n",
    "- La consommation semble **élevée quand les températures sont très basses (< 0°C)**, ce qui est cohérent avec une **augmentation du chauffage**.\n",
    "- On observe aussi une hausse pour les températures très élevées (> 25°C), probablement liée à **l'utilisation de la climatisation**.\n",
    "- Les intervalles centraux (10°C–20°C) affichent une consommation plus basse, ce qui peut correspondre à une période sans chauffage ni climatisation.\n"
   ]
  },
  {
   "cell_type": "markdown",
   "id": "57eecdfd",
   "metadata": {},
   "source": [
    "### 2. Heatmap de la Corrélation entre Température et Consommation d'Énergie"
   ]
  },
  {
   "cell_type": "code",
   "execution_count": 38,
   "id": "c6f723c2",
   "metadata": {},
   "outputs": [
    {
     "data": {
      "image/png": "[encoded data removed]",
      "text/plain": [
       "<Figure size 1000x600 with 2 Axes>"
      ]
     },
     "metadata": {},
     "output_type": "display_data"
    }
   ],
   "source": [
    "# Calcul de la matrice de corrélation\n",
    "heatmap_data = df_all.pivot_table(index='Nom Commune', columns='Année_x', values='Température moyenne annuelle')\n",
    "heatmap_energy = df_all.pivot_table(index='Nom Commune', columns='Année_x', values=\"Consommation annuelle moyenne par logement de l'adresse (MWh)\")\n",
    "\n",
    "combined_data = heatmap_data.add_suffix('_temp').join(heatmap_energy.add_suffix('_energy'))\n",
    "\n",
    "corr = combined_data.corr()\n",
    "\n",
    "temp_cols = [col for col in corr.columns if '_temp' in col]\n",
    "energy_cols = [col for col in corr.columns if '_energy' in col]\n",
    "corr_focus = corr.loc[energy_cols, temp_cols]\n",
    "\n",
    "# Affichage\n",
    "plt.figure(figsize=(10, 6))\n",
    "sns.heatmap(corr_focus, annot=True, cmap='coolwarm', fmt='.2f', linewidths=0.5)\n",
    "plt.title(\"Corrélation entre Température et Consommation d'Énergie (par année)\")\n",
    "plt.xlabel(\"Température moyenne annuelle\")\n",
    "plt.ylabel(\"Consommation énergétique\")\n",
    "plt.tight_layout()\n",
    "plt.show()\n"
   ]
  },
  {
   "cell_type": "markdown",
   "id": "7d546da9",
   "metadata": {},
   "source": [
    "Le **heatmap** ci-dessus montre la **corrélation** entre la **température moyenne mensuelle** et la **consommation énergétique annuelle moyenne par logement** pour chaque année permettant de comprendre si la température a un impact significatif sur la consommation d'énergie. \n",
    "\n",
    "Les valeurs vont de **0.02 à 0.15**, indiquant une **corrélation faible** dans l'ensemble.\n",
    "\n",
    "En effet, on peut conclure que le graphique montre que **la température a une influence limitée** sur la consommation d'énergie. Bien qu'il existe des corrélations faibles, elles ne sont pas suffisamment fortes pour suggérer que la température soit le facteur principal influençant la consommation d'énergie. Cela confirme l'hypothèse qu'il existe probablement **d'autres facteurs** qui influencent davantage la consommation énergétique. "
   ]
  }
 ],
 "metadata": {
  "kernelspec": {
   "display_name": "Python 3",
   "language": "python",
   "name": "python3"
  },
  "language_info": {
   "codemirror_mode": {
    "name": "ipython",
    "version": 3
   },
   "file_extension": ".py",
   "mimetype": "text/x-python",
   "name": "python",
   "nbconvert_exporter": "python",
   "pygments_lexer": "ipython3",
   "version": "3.9.6"
  }
 },
 "nbformat": 4,
 "nbformat_minor": 5
}
